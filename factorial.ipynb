{
 "cells": [
  {
   "cell_type": "code",
   "execution_count": 1,
   "metadata": {},
   "outputs": [
    {
     "name": "stdout",
     "output_type": "stream",
     "text": [
      "enter the number\n",
      "3\n",
      "factorial of 3 is 6\n"
     ]
    }
   ],
   "source": [
    "print('enter the number')\n",
    "user_input = input()\n",
    "num = int(user_input)\n",
    "\n",
    "if num==0:\n",
    "    print('factorial is', 1)\n",
    "if num < 0:\n",
    "    print(\"factorial doesn't exist\")\n",
    "if num > 0:\n",
    "    fact=1\n",
    "    for i in range(1, num+1):\n",
    "        fact = fact*i\n",
    "    print('factorial of', num, 'is', fact)"
   ]
  },
  {
   "cell_type": "code",
   "execution_count": 4,
   "metadata": {},
   "outputs": [
    {
     "name": "stdout",
     "output_type": "stream",
     "text": [
      "enter the number\n",
      "3\n",
      "sum of squares till 3 is 14\n"
     ]
    }
   ],
   "source": [
    "print('enter the number')\n",
    "user_input = input()\n",
    "num = int(user_input)\n",
    "sum=0\n",
    "for i in range(1, num+1):\n",
    "    sum =sum +i*i\n",
    "print('sum of squares till',num, 'is', sum)\n",
    "\n"
   ]
  },
  {
   "cell_type": "code",
   "execution_count": 5,
   "metadata": {},
   "outputs": [
    {
     "name": "stdout",
     "output_type": "stream",
     "text": [
      "enter the no. of terms\n",
      "5\n",
      "0\n",
      "1\n",
      "1\n",
      "2\n",
      "3\n"
     ]
    }
   ],
   "source": [
    "print('enter the no. of terms')\n",
    "user_input = input()\n",
    "n = int(user_input)\n",
    "t1=0\n",
    "t2=1\n",
    "nextterm=0\n",
    "for i in range(1, n+1):\n",
    "    print(t1)\n",
    "    nextterm = t1 + t2\n",
    "    t1 =t2 \n",
    "    t2 = nextterm\n"
   ]
  },
  {
   "cell_type": "code",
   "execution_count": null,
   "metadata": {},
   "outputs": [],
   "source": []
  }
 ],
 "metadata": {
  "kernelspec": {
   "display_name": "Python 3",
   "language": "python",
   "name": "python3"
  },
  "language_info": {
   "codemirror_mode": {
    "name": "ipython",
    "version": 3
   },
   "file_extension": ".py",
   "mimetype": "text/x-python",
   "name": "python",
   "nbconvert_exporter": "python",
   "pygments_lexer": "ipython3",
   "version": "3.7.3"
  }
 },
 "nbformat": 4,
 "nbformat_minor": 2
}
